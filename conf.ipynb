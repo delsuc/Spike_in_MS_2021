{
 "cells": [
  {
   "cell_type": "code",
   "execution_count": 1,
   "metadata": {
    "ExecuteTime": {
     "end_time": "2021-09-27T16:39:27.503857Z",
     "start_time": "2021-09-27T16:39:25.812150Z"
    },
    "slideshow": {
     "slide_type": "skip"
    }
   },
   "outputs": [
    {
     "name": "stdout",
     "output_type": "stream",
     "text": [
      "\n",
      "    ========================\n",
      "          SPIKE\n",
      "    ========================\n",
      "    Version     : 0.99.29\n",
      "    Date        : 20-09-2021\n",
      "    Revision Id : 529\n",
      "    ========================\n",
      "*** zoom3D not loaded ***\n",
      "plugins loaded:\n",
      "Fitter,  Linear_prediction,  Peaks,  bcorr,  fastclean,  gaussenh,  rem_ridge,  sane,  sg,  test,  urQRd, \n",
      "plugins loaded:\n",
      "msapmin, \n",
      "\n",
      "spike.plugins.report() for a short description of each plugins\n",
      "spike.plugins.report('module_name') for complete documentation on one plugin\n",
      "Exception reporting mode: Plain\n"
     ]
    }
   ],
   "source": [
    "# import tools\n",
    "import numpy as np\n",
    "import scipy as sci\n",
    "import pandas as pd\n",
    "import matplotlib\n",
    "import matplotlib.pyplot as plt\n",
    "from IPython.display import Markdown, display\n",
    "import spike\n",
    "\n",
    "# select a simple display mode\n",
    "%matplotlib inline\n",
    "\n",
    "# select simple error messages\n",
    "%xmode Plain"
   ]
  },
  {
   "cell_type": "markdown",
   "metadata": {
    "slideshow": {
     "slide_type": "skip"
    }
   },
   "source": [
    "# Intro 10min"
   ]
  },
  {
   "cell_type": "markdown",
   "metadata": {
    "slideshow": {
     "slide_type": "slide"
    }
   },
   "source": [
    "# Using SPIKE for advance FTICR processing\n",
    "- Spike organisation\n",
    "- noise reduction: urQRD / SANE\n",
    "- resolution in 2D FTICR\n",
    "- phase properties in 2D FTICR"
   ]
  },
  {
   "cell_type": "markdown",
   "metadata": {
    "slideshow": {
     "slide_type": "fragment"
    }
   },
   "source": [
    "- need for theory"
   ]
  },
  {
   "cell_type": "markdown",
   "metadata": {
    "slideshow": {
     "slide_type": "subslide"
    }
   },
   "source": [
    "##### Exponential function\n",
    "French Health Minister : **Olivier Véran** - two months ago...\n",
    "\n",
    "*COVID is not currently in exponential growth - it only  grows by 10% every week*"
   ]
  },
  {
   "cell_type": "markdown",
   "metadata": {
    "slideshow": {
     "slide_type": "fragment"
    }
   },
   "source": [
    "It is the very definition of the exponential 😂    *the growth is proportional to the value !*"
   ]
  },
  {
   "cell_type": "markdown",
   "metadata": {
    "slideshow": {
     "slide_type": "fragment"
    }
   },
   "source": [
    "Moreover if cases grows by 10%,\n",
    "\n",
    "- speed of growth also growth also grows by 10%\n",
    "- as well as its accelaration\n",
    "\n",
    "doubling in 7 weeks (we got it !)  $\\; \\Rightarrow \\quad \\times$ 10 in 24 weeks ( *would be August* 😥 )"
   ]
  },
  {
   "cell_type": "raw",
   "metadata": {
    "slideshow": {
     "slide_type": "skip"
    }
   },
   "source": [
    "the politician you diserve"
   ]
  },
  {
   "cell_type": "markdown",
   "metadata": {
    "slideshow": {
     "slide_type": "fragment"
    }
   },
   "source": [
    "BoJo"
   ]
  },
  {
   "cell_type": "markdown",
   "metadata": {
    "slideshow": {
     "slide_type": "fragment"
    }
   },
   "source": [
    "Angela"
   ]
  },
  {
   "cell_type": "code",
   "execution_count": 2,
   "metadata": {
    "ExecuteTime": {
     "end_time": "2021-09-27T16:39:27.510846Z",
     "start_time": "2021-09-27T16:39:27.505502Z"
    },
    "slideshow": {
     "slide_type": "skip"
    }
   },
   "outputs": [
    {
     "data": {
      "text/plain": [
       "(1.9487171000000012, 9.84973267580763)"
      ]
     },
     "execution_count": 2,
     "metadata": {},
     "output_type": "execute_result"
    }
   ],
   "source": [
    "1.1**7, 1.1**24"
   ]
  },
  {
   "cell_type": "markdown",
   "metadata": {
    "slideshow": {
     "slide_type": "subslide"
    }
   },
   "source": [
    "## need for  / Mathematics\n",
    "\n",
    "Our *Common Sense*  is not always efficient,\n",
    "\n",
    "the further we are from *Common Life* the less efficient it gets."
   ]
  },
  {
   "cell_type": "markdown",
   "metadata": {
    "slideshow": {
     "slide_type": "skip"
    }
   },
   "source": [
    "*Project - 1h22' !*\n",
    "\n",
    "- Intro 10min\n",
    "    - Exponential funny anecdote\n",
    "    - need for theory\n",
    "    - 2D NMR rapid story\n",
    "- Spike organisation 15 min\n",
    "    - dataset (NPK) object\n",
    "    - memory\n",
    "    - processing pipeline\n",
    "    - user interface\n",
    "        - python\n",
    "        - notebook\n",
    "        - interactive notebook\n",
    "- some useful mathematics 10 min\n",
    "    - complex numbers\n",
    "    - real exponential\n",
    "    - complex exponential\n",
    "    - LP modeling of harmonic signals\n",
    "    - Toeplitz matrix of the AutoRegressive model / and limitations\n",
    "    - circulant matrices and FFT\n",
    "\n",
    "- urQRd, SANE and more  15 min\n",
    "    - Cadzow historical approach\n",
    "    - urQRd - speed and robustness compared to Cadzow\n",
    "    - SANE - choosing a better basis\n",
    "    - new SVD approach\n",
    "    - examples in FT-ICR\n",
    "        - 1D and 2D\n",
    "\n",
    "- concepts in 2D  5 min\n",
    "    - basis\n",
    "        - what drives resolution\n",
    "        - difference between F1 and F2\n",
    "    - example with Narrow Band 2D\n",
    "- some more mathematics   10 min\n",
    "    - amplitude modulation and phase modulation\n",
    "    - phase in 2D\n",
    "    - hypercomplex numbers\n",
    "\n",
    "- phase sensitive absorption 15 min\n",
    "    - phase in F2\n",
    "    - phase in F1\n",
    "    - results \n",
    "- conclusion 2 min"
   ]
  },
  {
   "cell_type": "markdown",
   "metadata": {
    "slideshow": {
     "slide_type": "subslide"
    }
   },
   "source": [
    "![](plan.png)"
   ]
  },
  {
   "cell_type": "markdown",
   "metadata": {
    "slideshow": {
     "slide_type": "subslide"
    }
   },
   "source": [
    "## 2D NMR\n",
    "- 1st idea of 2D Fourier Transform in NMR *J.Jeener 1973* $\\quad t=0$\n",
    "- 1st idea of correlation 2D *R.Ernst ~1976*\n",
    "    - via a strange quantic effect of spins\n",
    "- 1st implementation in chemistry lab ~1980 *(I was there)* $\\quad \\Delta t =  7y$\n",
    "    - computers were quite uncommun in the lab at that time\n",
    "- practice of phasing of 2D NMR spectra, *~1985*  $\\hspace{3.5cm} \\Delta t =  12y$\n",
    "    - realizing that there are several modulation modalities.\n",
    "- 1st understanding of what is actually 2D Fourier Transform in NMR *1987-1988*  $\\quad \\Delta t =  15y$ **!!!**\n",
    "    - allows to actually rephase 2D spectra\n",
    "\n",
    "*for an early history of 2D FT-ICR-MS, check [G.Bodenhausen manuscript on preprints.org](https://www.preprints.org/manuscript/202104.0335/v1) .*\n"
   ]
  },
  {
   "cell_type": "markdown",
   "metadata": {
    "slideshow": {
     "slide_type": "subslide"
    }
   },
   "source": [
    "## 2D spectroscopy requires a different Mathematics\n",
    "not directly available to common sense\n",
    "\n",
    "has an impact on experiment planning *(at least in NMR)*"
   ]
  },
  {
   "cell_type": "markdown",
   "metadata": {
    "slideshow": {
     "slide_type": "fragment"
    }
   },
   "source": [
    "$\\Rightarrow$ has a deep impact on software organisation"
   ]
  },
  {
   "cell_type": "markdown",
   "metadata": {
    "slideshow": {
     "slide_type": "skip"
    }
   },
   "source": [
    "# Spike organisation 15 min"
   ]
  },
  {
   "cell_type": "markdown",
   "metadata": {
    "slideshow": {
     "slide_type": "slide"
    }
   },
   "source": [
    "# Spike organisation\n",
    "\n",
    "I have been working on the Spike documentation lately, you can check it here: [github.com/spike-project/spike/#readme](https://github.com/spike-project/spike/#readme) and all the links therein.\n",
    "\n",
    "In particular, this is covered in [Development Guide](https://github.com/spike-project/spike/blob/master/DevelopmentGuide.md)\n",
    "\n",
    "- dataset (NPK) object\n",
    "- memory\n",
    "- processing pipeline\n",
    "- user interface"
   ]
  },
  {
   "cell_type": "markdown",
   "metadata": {
    "slideshow": {
     "slide_type": "subslide"
    }
   },
   "source": [
    "## Spike is not a program !\n",
    "It is a python library, that you have to use to process your datasets.\n",
    "\n",
    "Starting with NMR, It was actually extended to FTICR and even ORBITRAP"
   ]
  },
  {
   "cell_type": "markdown",
   "metadata": {
    "slideshow": {
     "slide_type": "fragment"
    }
   },
   "source": [
    "## user interface\n",
    "it can used through:\n",
    "\n",
    "- <big> a python program 😰</big>"
   ]
  },
  {
   "cell_type": "markdown",
   "metadata": {
    "slideshow": {
     "slide_type": "fragment"
    }
   },
   "source": [
    "- <big>a python notebook, which includes program and graphics 😑</big>"
   ]
  },
  {
   "cell_type": "markdown",
   "metadata": {
    "slideshow": {
     "slide_type": "fragment"
    }
   },
   "source": [
    "- <big>an interactive notebook, (nearly) no programming, just the mouse 😋</big>"
   ]
  },
  {
   "cell_type": "markdown",
   "metadata": {
    "slideshow": {
     "slide_type": "subslide"
    }
   },
   "source": [
    "## A dataset is a python object\n",
    "All datasets in Spike are handled through an `NPKData` object, composed of:\n",
    "\n",
    " - a large n-dimensional real `numpy` nparray object that contains the actual spectroscopic data\n",
    "     - modified by all the processing methods, called `buffer` and accessed with the `d.get_buffer()` and `d.set_buffer()` methods\n",
    " - one Axis() object per dimension, which contains all the characteristics along the given axis (calibration, data-type, size, etc…)\n",
    "      - `d.axis1` for a 1D spectrum\n",
    "      - `d.axis1` and `d.axis2` for a 2D spectrum - with the `d.axes(i)` convenient method\n",
    " - some attibutes general to the dataset, in particular the `d.params` which contains a copy of the acquisition parameters, structured as a dictionnary\n",
    " - a large (and expandable) set of methods that act on the dataset\n",
    "\n",
    "These several kind of NPK dataset are defined in `spike.NMR` `spike.FTICR` and `spike.Orbitrap` which are typically imported in the beginning of a program.\n"
   ]
  },
  {
   "cell_type": "markdown",
   "metadata": {
    "slideshow": {
     "slide_type": "subslide"
    }
   },
   "source": [
    "## acting on the object\n",
    "\n",
    "a typical 1D analysis:\n",
    "```python\n",
    "from spike.File.Solarix import Import_1D    # load the Importer\n",
    "d = Import_1D(myfile)   # use the specific importer (for instance)\n",
    "d.hanning()             # apodisation\n",
    "d.zf(2)                 # zero-filling twice\n",
    "d.rfft()                # real fast Fourier transform\n",
    "d.modulus()             # take the modulus\n",
    "d.set_unit('m/z')       # display in m/z units  (Hz and index also available)\n",
    "d.display()             # show the results (assuming calibration was ok)\n",
    "```\n",
    "you can do as well\n",
    "```python\n",
    "# processing as a pipeline\n",
    "d = Import_1D(myfile).hanning().zf(2).rfft().modulus().set_unit('m/z').display()\n",
    "```\n",
    "if you are just interested in the picture, you don't even have to store the result in a variable."
   ]
  },
  {
   "cell_type": "markdown",
   "metadata": {
    "slideshow": {
     "slide_type": "subslide"
    }
   },
   "source": [
    "Methods act on and modify the object itself $\\Rightarrow$  behaviour in previous slide\n",
    "\n",
    "Another very typical usage: \n",
    "\n",
    "- Import the dataset and just test some feature\n",
    "- no modification it. \n",
    "- use `.copy()` for this which duplicates the whole objet\n",
    "\n",
    "```python\n",
    "\n",
    "d = Import_1D(myfile)       # use the specific importer to load the dataset\n",
    "d.copy().hamming().rfft().display()     # and use copy() in the pipeline \n",
    "                                        # to look at it without modifying d\n",
    "```\n",
    "- minimal amount of memory\n",
    "- does not clutter your variable space."
   ]
  },
  {
   "cell_type": "markdown",
   "metadata": {
    "slideshow": {
     "slide_type": "subslide"
    }
   },
   "source": [
    "## The Axis() object\n",
    "`Axis()` contains all the metadata needed to handle the different unit.\n",
    "\n",
    "`ML1` `ML2` `ML3` parameters in Bruker imported as `CalibA`, `CalibB`, `CalibC` *(with a caveat, check documentation).*\n",
    "\n",
    "permits to convert from one unit system to another freely and back, with methods called `.ytox(val)` which computes the value of `val` from unit `y` into unit `x` , and `.xtoy()` which performs the opposite. \n",
    "\n",
    "For instance in FTICR\n",
    "```python\n",
    "d.axis1.mztoi(138.85)   # returns the index at which the m/z 138.85 is located\n",
    "d.axis2.itos(1234)      # returns the t1 time of the transient at index 1234 along F2 for a 2D\n",
    "d.axis1.htomz(1000)     # returns the mz value located at 1000 Hz\n",
    "```\n",
    "These are just a few examples.\n",
    "\n",
    "*Note that the `i` (index) unit does not have to be integer. So if you want to access the buffer at this value, you have to do `int(d.axis1.ptoi(5.5))` or even better `int(round(d.axis1.ptoi(5.5)))` .*"
   ]
  },
  {
   "cell_type": "markdown",
   "metadata": {
    "slideshow": {
     "slide_type": "skip"
    }
   },
   "source": [
    "# some useful mathematics 10 min\n"
   ]
  },
  {
   "cell_type": "markdown",
   "metadata": {
    "slideshow": {
     "slide_type": "slide"
    }
   },
   "source": [
    "# some useful mathematics \n",
    "- the exponential function\n",
    "Remember \"it only  grows by 10% every week\" ?\n",
    "\n",
    "$$C_{n+1} = 1.1 C_n$$ \n",
    "\n",
    "or, with $R=1.1$ \n",
    "\n",
    "$$C_{n+1} = R C_n$$\n",
    "\n",
    "and actually, starting at $C_o$, we have:\n",
    "\n",
    "$$C_n = R^n C_o$$"
   ]
  },
  {
   "cell_type": "code",
   "execution_count": 3,
   "metadata": {
    "ExecuteTime": {
     "end_time": "2021-09-27T16:39:27.709974Z",
     "start_time": "2021-09-27T16:39:27.512701Z"
    },
    "slideshow": {
     "slide_type": "subslide"
    }
   },
   "outputs": [
    {
     "data": {
      "image/png": "[encoded data removed]",
      "text/plain": [
       "<Figure size 432x288 with 1 Axes>"
      ]
     },
     "metadata": {
      "needs_background": "light"
     },
     "output_type": "display_data"
    }
   ],
   "source": [
    "# over 7 weeks\n",
    "weeks = np.arange(8)\n",
    "Covid = 100*np.ones(8)\n",
    "plt.figure(figsize=(6,4))\n",
    "for i in range(1,8):\n",
    "    Covid[i] = 1.1*Covid[i-1]\n",
    "plt.scatter(weeks, Covid)\n",
    "plt.title('over 7 weeks');"
   ]
  },
  {
   "cell_type": "code",
   "execution_count": 4,
   "metadata": {
    "ExecuteTime": {
     "end_time": "2021-09-27T16:39:27.872672Z",
     "start_time": "2021-09-27T16:39:27.711690Z"
    },
    "slideshow": {
     "slide_type": "subslide"
    }
   },
   "outputs": [
    {
     "data": {
      "image/png": "[encoded data removed]",
      "text/plain": [
       "<Figure size 432x288 with 1 Axes>"
      ]
     },
     "metadata": {
      "needs_background": "light"
     },
     "output_type": "display_data"
    }
   ],
   "source": [
    "# over 24 weeks\n",
    "weeks = np.arange(25)\n",
    "Covid = 100*np.ones(25)\n",
    "plt.figure(figsize=(6,4))\n",
    "for i in range(1,25):\n",
    "    Covid[i] = 1.1*Covid[i-1]     # 10% per week\n",
    "plt.scatter(weeks, Covid)\n",
    "plt.title('over 24 weeks'); "
   ]
  },
  {
   "cell_type": "markdown",
   "metadata": {
    "slideshow": {
     "slide_type": "subslide"
    }
   },
   "source": [
    "but if you want to make it continuous, you need a special function $\\Rightarrow \\exp(t)$\n",
    "$$C(t) = C_o exp(R't)$$\n",
    "somehow, $\\exp()$ acts like a *continuous* exponent. \n",
    "\n",
    "That's why it is sometimes noted $$e^{R't} = \\exp(R't)$$\n",
    "\n",
    "$R'$ is such that $exp(R't)$ when $t=1$ is 1.1\n",
    "$$R' = \\log(1.1) = 0.0953$$\n",
    "$\\log$ is the *reciprocal* function of $\\exp$,\n",
    "\n",
    "i.e. if $A=\\exp(a)\\;$ then $\\; a = \\log(A)$"
   ]
  },
  {
   "cell_type": "code",
   "execution_count": 5,
   "metadata": {
    "ExecuteTime": {
     "end_time": "2021-09-27T16:39:28.010244Z",
     "start_time": "2021-09-27T16:39:27.874355Z"
    },
    "slideshow": {
     "slide_type": "subslide"
    }
   },
   "outputs": [
    {
     "data": {
      "image/png": "[encoded data removed]",
      "text/plain": [
       "<Figure size 432x288 with 1 Axes>"
      ]
     },
     "metadata": {
      "needs_background": "light"
     },
     "output_type": "display_data"
    }
   ],
   "source": [
    "# continuous evolution over 24 weeks\n",
    "time = np.linspace(0,24,1000)      # from 0 to 25 in 1000 points\n",
    "Rprime = np.log(1.1)\n",
    "Co = 100\n",
    "Covid = Co * np.exp(Rprime*time)   # Covid = Co exp(R't)\n",
    "plt.figure(figsize=(6,4))\n",
    "plt.plot(time, Covid)\n",
    "plt.title('over 24 weeks');"
   ]
  },
  {
   "cell_type": "markdown",
   "metadata": {
    "slideshow": {
     "slide_type": "subslide"
    }
   },
   "source": [
    "## with a R<0"
   ]
  },
  {
   "cell_type": "code",
   "execution_count": 6,
   "metadata": {
    "ExecuteTime": {
     "end_time": "2021-09-27T16:39:28.190138Z",
     "start_time": "2021-09-27T16:39:28.011624Z"
    }
   },
   "outputs": [
    {
     "name": "stdout",
     "output_type": "stream",
     "text": [
      "R' = -0.1\n"
     ]
    },
    {
     "data": {
      "image/png": "[encoded data removed]",
      "text/plain": [
       "<Figure size 432x288 with 1 Axes>"
      ]
     },
     "metadata": {
      "needs_background": "light"
     },
     "output_type": "display_data"
    }
   ],
   "source": [
    "# continuous evolution over 24 weeks with\n",
    "time = np.linspace(0,25,1000)     # from 0 to 25 in 1000 points\n",
    "Rprime = -0.1 #np.log(0.9)\n",
    "print(\"R' =\", Rprime)\n",
    "Co = 100\n",
    "Covid = Co * np.exp(Rprime*time)  # Covid = Co exp(R't)\n",
    "plt.figure(figsize=(6,4))\n",
    "plt.plot(time, Covid)\n",
    "plt.title('over 24 weeks');"
   ]
  },
  {
   "cell_type": "markdown",
   "metadata": {},
   "source": [
    "and R = 0 means no evolution"
   ]
  },
  {
   "cell_type": "markdown",
   "metadata": {
    "slideshow": {
     "slide_type": "subslide"
    }
   },
   "source": [
    "## multiplicative rules\n",
    "the $\\exp()$ is similar to a continuous exponent and follows the same rules than exponents:\n",
    "\\begin{equation}\\exp(a + b) = \\exp(a)\\exp(b)\\end{equation}\n",
    "$$\\exp(2a) = \\exp(a)^2$$\n",
    "$$\\exp(n a) = \\exp(a)^n$$\n"
   ]
  },
  {
   "cell_type": "code",
   "execution_count": 7,
   "metadata": {
    "ExecuteTime": {
     "end_time": "2021-09-27T16:39:28.201237Z",
     "start_time": "2021-09-27T16:39:28.192406Z"
    },
    "slideshow": {
     "slide_type": "skip"
    }
   },
   "outputs": [],
   "source": [
    "def drawaxes():\n",
    "    plt.plot([-3,3],[0,0],':k') # the real axis\n",
    "    plt.plot([0,0],[-3,3],':k') # the imaginary axis\n",
    "    plt.scatter([1,0,-1,0],[0,1,0,-1])\n",
    "    plt.text(1,0.15,'1')\n",
    "    plt.text(-1,0.15,'-1')\n",
    "    plt.text(0.15,1,'j')\n",
    "    plt.text(0.15,-1,'-j')\n",
    "    plt.title('the complex plane $\\mathbb{C}$')\n",
    "def drawcpx(z, name='z'):\n",
    "    plt.scatter(z.real, z.imag)\n",
    "    plt.plot([0,z.real],[0,z.imag],'--k')\n",
    "    plt.text(1.05*z.real, 1.05*z.imag,'%s = %s'%(name,str(z)[1:-1]));"
   ]
  },
  {
   "cell_type": "markdown",
   "metadata": {
    "slideshow": {
     "slide_type": "subslide"
    }
   },
   "source": [
    "## complex numbers\n",
    "A very smart method to handle 2D values. *Check [github.com/delsuc/Fourier_Transform/complex_reminder.ipynb](https://github.com/delsuc/Fourier_Transform/blob/master/complex_reminder.ipynb) .*\n",
    "\n",
    "- $\\Rightarrow$ two values ($x$ & $y$) to store, noted along two axes $1$ *(real part)* and $j$ *(imaginary part)*\n",
    "- space called $\\mathbb{C}$\n",
    "- a position in the plane determines a point, but also a **length** and an **angle** \n"
   ]
  },
  {
   "cell_type": "code",
   "execution_count": 8,
   "metadata": {
    "ExecuteTime": {
     "end_time": "2021-09-27T16:39:28.596139Z",
     "start_time": "2021-09-27T16:39:28.204987Z"
    }
   },
   "outputs": [
    {
     "data": {
      "image/png": "[encoded data removed]",
      "text/plain": [
       "<Figure size 504x504 with 1 Axes>"
      ]
     },
     "metadata": {
      "needs_background": "light"
     },
     "output_type": "display_data"
    }
   ],
   "source": [
    "# let's draw this using 2 little utilities defined in background()\n",
    "plt.figure(figsize=(7,7))\n",
    "drawaxes()\n",
    "z = 1.5 + 2j\n",
    "drawcpx(z)"
   ]
  },
  {
   "cell_type": "markdown",
   "metadata": {
    "slideshow": {
     "slide_type": "subslide"
    }
   },
   "source": [
    "## you can do addition, and multiplication\n",
    "- addition of complexes is adding both real and imaginary part. $\\equiv$ to adding vectors.\n",
    "    - No big deal\n",
    "- multiplication of complexes is  multiplying **lengths** (people say  \"modulus\") and adding **angles**\n"
   ]
  },
  {
   "cell_type": "code",
   "execution_count": 9,
   "metadata": {
    "ExecuteTime": {
     "end_time": "2021-09-27T16:39:28.848096Z",
     "start_time": "2021-09-27T16:39:28.598446Z"
    }
   },
   "outputs": [
    {
     "data": {
      "image/png": "[encoded data removed]",
      "text/plain": [
       "<Figure size 504x504 with 1 Axes>"
      ]
     },
     "metadata": {
      "needs_background": "light"
     },
     "output_type": "display_data"
    }
   ],
   "source": [
    "# let's draw this\n",
    "plt.figure(figsize=(7,7))\n",
    "drawaxes()\n",
    "z1 = 1.5 +2j\n",
    "z2 = 0.3 + 1.2j\n",
    "z1_z2 = z1*z2 \n",
    "for nz in ('z1','z2','z1_z2'):\n",
    "    drawcpx(eval(nz), name=nz)"
   ]
  },
  {
   "cell_type": "markdown",
   "metadata": {},
   "source": [
    "- so multiplication by complexes of modulus $1$ *(on the unity circle)* \n",
    "  is like a pure rotation by the angle of this complex number"
   ]
  },
  {
   "cell_type": "markdown",
   "metadata": {
    "slideshow": {
     "slide_type": "subslide"
    }
   },
   "source": [
    "## Quiz\n",
    "- what is the angle of the rotation when\n",
    "    - multiplying by $-1$\n",
    "    - multiplying by $j$\n",
    "    - multiplying by $-j$\n",
    "    - multiplying by $\\frac{1+j}{\\sqrt{2}}$"
   ]
  },
  {
   "cell_type": "markdown",
   "metadata": {
    "slideshow": {
     "slide_type": "subslide"
    }
   },
   "source": [
    "## Quiz - solution\n",
    "- what is the angle of the rotation when\n",
    "    - multiplying by $-1$ $\\quad$ 180°\n",
    "    - multiplying by $j$ $\\quad$ 90°\n",
    "    - multiplying by $-j$ $\\quad$ -90°\n",
    "    - multiplying by $\\frac{1+j}{\\sqrt{2}}$  $\\quad$ 45°\n",
    "    - etc."
   ]
  },
  {
   "cell_type": "markdown",
   "metadata": {
    "slideshow": {
     "slide_type": "subslide"
    }
   },
   "source": [
    "## complex exponential\n",
    "Those multiplicative and additive rules fit perfectly the exponential we described earlier.\n",
    "\n",
    "$\\Rightarrow$ let's define the exponential of a complex number:<br>\n",
    "$\\exp(z) = exp(R)exp(j\\theta) = R'\\exp(j \\theta) = R'e^{j \\theta} \\quad$ (modulus $R'$ and angle $\\theta$)\n",
    "\n",
    "So if we have:\n",
    "$z_1 = R'_1e^{j \\theta_1} \\quad$ and $z_2 =  R'_2e^{j \\theta_2} \\quad$\n",
    "then \n",
    "\\begin{equation}z_1 \\times z_2 =  R'_1 R'_2 e^{j (\\theta_1+\\theta_2)}\\end{equation}\n",
    "just following the rules for the exponential:\n",
    "\n",
    "$\\Rightarrow$ multiplying **lengths** and adding **angles**"
   ]
  },
  {
   "cell_type": "code",
   "execution_count": null,
   "metadata": {},
   "outputs": [],
   "source": []
  },
  {
   "cell_type": "code",
   "execution_count": 10,
   "metadata": {
    "ExecuteTime": {
     "end_time": "2021-09-27T16:39:29.038868Z",
     "start_time": "2021-09-27T16:39:28.850001Z"
    },
    "slideshow": {
     "slide_type": "subslide"
    }
   },
   "outputs": [
    {
     "data": {
      "image/png": "[encoded data removed]",
      "text/plain": [
       "<Figure size 504x360 with 1 Axes>"
      ]
     },
     "metadata": {
      "needs_background": "light"
     },
     "output_type": "display_data"
    }
   ],
   "source": [
    "# let's draw this over 24 weeks\n",
    "weeks = np.arange(25)\n",
    "Covid = 1*np.ones(25) +0j\n",
    "for i in range(1,25):\n",
    "    Z = 1.1*np.exp(0.4j)       # angle of 0.7 radian, modulus of 1.1\n",
    "    Covid[i] = Z*Covid[i-1]    # Z % per week\n",
    "plt.figure(figsize=(7,5))\n",
    "plt.scatter(weeks, Covid.real)\n",
    "plt.scatter(weeks, Covid.imag)\n",
    "plt.title('over 24 weeks'); "
   ]
  },
  {
   "cell_type": "code",
   "execution_count": 11,
   "metadata": {
    "ExecuteTime": {
     "end_time": "2021-09-27T16:39:29.208288Z",
     "start_time": "2021-09-27T16:39:29.040125Z"
    },
    "slideshow": {
     "slide_type": "subslide"
    }
   },
   "outputs": [
    {
     "data": {
      "image/png": "[encoded data removed]",
      "text/plain": [
       "<Figure size 432x288 with 1 Axes>"
      ]
     },
     "metadata": {
      "needs_background": "light"
     },
     "output_type": "display_data"
    }
   ],
   "source": [
    "# let's draw this over 24 weeks\n",
    "weeks = np.arange(25)\n",
    "Covid = 1*np.ones(25) +0j\n",
    "drawaxes()\n",
    "for i in range(1,25):\n",
    "    Z = 1.1*np.exp(0.4j)       # angle of 0.7 radian, modulus of 1.1\n",
    "    Covid[i] = Z*Covid[i-1]    # Z % per week\n",
    "plt.scatter(Covid.real, Covid.imag)\n",
    "plt.title('over 24 weeks'); "
   ]
  },
  {
   "cell_type": "markdown",
   "metadata": {
    "slideshow": {
     "slide_type": "subslide"
    }
   },
   "source": [
    "## with R<0"
   ]
  },
  {
   "cell_type": "code",
   "execution_count": 12,
   "metadata": {
    "ExecuteTime": {
     "end_time": "2021-09-27T16:39:29.483655Z",
     "start_time": "2021-09-27T16:39:29.209592Z"
    },
    "slideshow": {
     "slide_type": "-"
    }
   },
   "outputs": [
    {
     "data": {
      "image/png": "[encoded data removed]",
      "text/plain": [
       "<Figure size 864x360 with 2 Axes>"
      ]
     },
     "metadata": {
      "needs_background": "light"
     },
     "output_type": "display_data"
    }
   ],
   "source": [
    "# continuous evolution over 24 weeks\n",
    "time = np.linspace(0,25,1000)  # from 0 to 25 in 1000 points\n",
    "Rprime = np.log(0.9)+2j        # angle of 2 radian, modulus of 0.9\n",
    "Co = 1\n",
    "Covid = Co * np.exp(Rprime*time)\n",
    "fig, (axis1, axis2) = plt.subplots(ncols=2, figsize=(12,5))\n",
    "axis1.plot(time, Covid.real)\n",
    "axis2.plot(Covid.real, Covid.imag);"
   ]
  },
  {
   "cell_type": "markdown",
   "metadata": {},
   "source": [
    "a damped sinusoid ! $\\Rightarrow$ not so different from a FTICR signal !!!"
   ]
  },
  {
   "cell_type": "markdown",
   "metadata": {
    "slideshow": {
     "slide_type": "subslide"
    }
   },
   "source": [
    "## modeling of a \"harmonic\" signal\n",
    "- one line, decay at rate $R$ (negative) and rotation at speed $\\theta$:\n",
    "\n",
    "\\begin{equation}S(t) = A \\exp(Rt) \\exp(j \\theta t)\\end{equation}\n",
    "\n",
    "- if regularly sampled at time $t_n = n\\Delta t$, it becomes\n",
    "\n",
    "$$ S_n = A \\exp(nR \\Delta t) \\exp(n j \\theta \\Delta t) = A \\exp(R \\Delta t + j \\theta \\Delta t)^n = A Z^n$$\n",
    "with $Z = \\exp(R \\Delta t + j \\theta \\Delta t)$\n",
    "\n",
    "- in other words, we have a regression form: \n",
    "\\begin{equation} S_{n} = Z S_{n-1} \\\\\n",
    "S_o = A\n",
    "\\end{equation}\n",
    "$A$ is the amplitude of the signal *(can be complex $\\Rightarrow$ phase )*<br>\n",
    "$Z$ is the characteristic pole of this \"harmonic\" signal\n"
   ]
  },
  {
   "cell_type": "markdown",
   "metadata": {
    "slideshow": {
     "slide_type": "subslide"
    }
   },
   "source": [
    "## extended to more than one line:\n",
    "\n",
    "for $K$ different lines, with intensities $A_k$ and \"poles\" $Z_k$ we have:\n",
    "\n",
    "\\begin{equation}S_n = W_1 S_{n-1} +  W_2 S_{n-2} +  W_3 S_{n-3} \\cdots  W_K S_{n-K}\\end{equation}\n",
    "\n",
    "where the $W_k$ uniquely depend on the $Z_k$ *(in a complicated way)*<br>\n",
    "and $[S_1 \\cdots S_K]$ depend on the $A_k$ \n",
    "\n",
    "Here eq(5) represents the **Autoregressive model (AR)** of this harmonic signal \n",
    "<br>\n",
    "*(aka **Linear Prediction** model )*"
   ]
  },
  {
   "cell_type": "markdown",
   "metadata": {
    "slideshow": {
     "slide_type": "subslide"
    }
   },
   "source": [
    "## Hankel matrix and the AutoRegressive model\n",
    "eq(4) can be written for any points of the sampled signal (except the $K$ first points)\n",
    "\n",
    "we write the following $M \\times (N-M)$ matrix $\\mathbf{H}\\quad H_{i,j} = S_{i+j-1}$:\n",
    "\n",
    "\\begin{equation}\n",
    "\\mathbf{H} = \\begin{vmatrix}\n",
    "S_1 & S_{2} & S_{3} & \\cdots & S_{N-M} \\\\\n",
    "S_{2} & S_{3} & S_{4} & \\cdots & S_{N-M+1} \\\\\n",
    "S_{3} & S_{4} & S_{5} & \\cdots & S_{N-M+2} \\\\\n",
    "\\vdots  & & & \\ddots & \\\\\n",
    "S_M & S_{M+1} & S_{M+2} & \\cdots & S_{N} \\\\\n",
    "\\end{vmatrix}\n",
    "\\end{equation}\n",
    "\n",
    "$\\mathbf{H}$ is a **Hankel** matrix. &nbsp; *(Toeplitz matrices tell a miror image story)*<br>\n",
    "Because of AR, the rank of $\\mathbf{H}$ is $K$ *(in a noise free system)*\n",
    "\n",
    "Note how $S_n$ with $n : [1 \\cdots N]$: runs on the edge of $\\mathbf{H}$"
   ]
  },
  {
   "cell_type": "markdown",
   "metadata": {
    "slideshow": {
     "slide_type": "subslide"
    }
   },
   "source": [
    "## circulant matrices\n",
    "\n",
    "$\\mathbf{H}$ is a circulant matrix  &nbsp; ( *circulating* a single vector)"
   ]
  },
  {
   "cell_type": "markdown",
   "metadata": {
    "slideshow": {
     "slide_type": "fragment"
    }
   },
   "source": [
    "Multiplication with such a matrix $\\;\\equiv\\;$ Convolution with the generating vector."
   ]
  },
  {
   "cell_type": "markdown",
   "metadata": {
    "slideshow": {
     "slide_type": "fragment"
    }
   },
   "source": [
    "Convolution can be performed efficiently with Fast Fourier Transform (FFT)"
   ]
  },
  {
   "cell_type": "markdown",
   "metadata": {
    "slideshow": {
     "slide_type": "fragment"
    }
   },
   "source": [
    "Computation time $O(N^2) \\rightarrow O( N \\log N )$\n",
    "\n",
    "*if 1k takes 1 msec for both, 1M will take 10sec instead of 16min*"
   ]
  },
  {
   "cell_type": "code",
   "execution_count": 15,
   "metadata": {
    "ExecuteTime": {
     "end_time": "2021-09-27T16:40:02.401693Z",
     "start_time": "2021-09-27T16:40:02.392080Z"
    },
    "slideshow": {
     "slide_type": "skip"
    }
   },
   "outputs": [
    {
     "data": {
      "text/plain": [
       "(16.666666666666668, 10000)"
      ]
     },
     "execution_count": 15,
     "metadata": {},
     "output_type": "execute_result"
    }
   ],
   "source": [
    "1E6/1000/60, 10*1000"
   ]
  },
  {
   "cell_type": "markdown",
   "metadata": {
    "slideshow": {
     "slide_type": "skip"
    }
   },
   "source": [
    "## and limitations"
   ]
  },
  {
   "cell_type": "markdown",
   "metadata": {
    "slideshow": {
     "slide_type": "skip"
    }
   },
   "source": [
    "# urQRd, SANE and more  15 min"
   ]
  },
  {
   "cell_type": "markdown",
   "metadata": {
    "slideshow": {
     "slide_type": "slide"
    }
   },
   "source": [
    "# Noise reduction - Cadzow's method (1988)\n",
    "\n",
    "From a signal $S$ we can build a $M \\times (N-M)$ matrix $\\mathbf{H}\\quad$\n",
    "If *noise-free* $\\;\\textrm{rank}(\\mathbf{H}) = K\\quad$\n",
    "\n",
    "but usually there is noise, so rank is not limited anymore\n",
    "\n",
    "**Cadzow** approach$^1$ is \n",
    "- from $S$ compute $\\mathbf{H}$ \n",
    "- extract the **SVD** of $\\mathbf{H}$ &nbsp; *(slow - memory hungry)*\n",
    "- truncate **SVD** to $K$  &nbsp; *(if $K$ signals are expected)*\n",
    "- from truncation, rebuild $\\mathbf{H}$ then $S$\n",
    "- iterate\n",
    "\n",
    "Very efficient (used in many techniques)<br>\n",
    "**BUT** this is *slooow* and unrealistic for large $S \\quad (N>10.000)$\n",
    "\n",
    "<small>1. Cadzow JA *IEEE Trans. ASSP* **36** p49-62 (1988)</small>"
   ]
  },
  {
   "cell_type": "markdown",
   "metadata": {
    "slideshow": {
     "slide_type": "subslide"
    }
   },
   "source": [
    "## Noise reduction - urQRd$^1$ (2014)\n",
    "\n",
    "\n",
    "Same as Cadzow, *but*...\n",
    "- Truncate $\\mathbf{H}$ first, thanks to *random projection* theorem\n",
    "- use **QR** to estimate **SVD** from truncated $\\mathbf{H}$ &nbsp; *(fast)*\n",
    "- from **QR** decomposition, rebuild $\\mathbf{H}$ then $S$\n",
    "- iterate\n",
    "\n",
    "plus...\n",
    "- use FFT trick to compute all matrix products &nbsp; *(reduces the memory burden)*\n",
    "\n",
    "\n",
    "<small>1.Chiron L., van Agthoven M. A., Kieffer B., Rolando C., Delsuc M-A. *Proc Natl Acad Sci USA*, **111** (4) :1385–1390, (2014)</small>"
   ]
  },
  {
   "cell_type": "markdown",
   "metadata": {
    "slideshow": {
     "slide_type": "subslide"
    }
   },
   "source": [
    "## Noise reduction - urQRd$^1$ (2014)\n",
    "\n",
    "\n",
    "Same as Cadzow, *but*...\n",
    "- Truncate $\\mathbf{H}$ first, thanks to *random projection* theorem\n",
    "&nbsp;  u<span style=\"color:red\">r</span>QRd\n",
    "- use **QR** to estimate **SVD** from truncated $\\mathbf{H}$\n",
    "&nbsp; &nbsp;  ur<span style=\"color:red\">QR</span>d\n",
    "- from **QR** decomposition, rebuild $\\mathbf{H}$ then $S$\n",
    "&nbsp; &nbsp;  urQR<span style=\"color:red\">d</span>\n",
    "- iterate\n",
    "\n",
    "plus...\n",
    "- use FFT trick to compute all matrix products.\n",
    "&nbsp; &nbsp;  <span style=\"color:red\">u</span>rQRd\n",
    "\n",
    "\n",
    "<small>1.Chiron L., van Agthoven M. A., Kieffer B., Rolando C., Delsuc M-A. *Proc Natl Acad Sci USA*, **111** (4) :1385–1390, (2014)</small>\n",
    "\n",
    "\n",
    "\n",
    "\n",
    "H (M x N_M) O (N-M K) = H' (M x K)\n",
    "tH' = Q (K K) R (K M) \n",
    "Q Q* H = H\" "
   ]
  },
  {
   "cell_type": "markdown",
   "metadata": {
    "slideshow": {
     "slide_type": "subslide"
    }
   },
   "source": [
    "## urQRd - speed and robustness compared to Cadzow\n",
    "on a synthetic dataset\n",
    "\n",
    "![on a synthetic dataset](compo.png)\n",
    "\n"
   ]
  },
  {
   "cell_type": "markdown",
   "metadata": {
    "slideshow": {
     "slide_type": "subslide"
    }
   },
   "source": [
    "## urQRd - speed and robustness compared to Cadzow\n",
    "![on a synthetic dataset](speed.png)\n",
    "\n",
    "- less memory burden\n",
    "- theoretical processing time in  $KN\\log N \\quad$ with $\\quad K \\ll M < N$"
   ]
  },
  {
   "cell_type": "markdown",
   "metadata": {
    "slideshow": {
     "slide_type": "subslide"
    }
   },
   "source": [
    "## SANE - choosing a better basis\n",
    "**Quiz!** &nbsp;  *find the differences*\n",
    "![](algo_big.png)"
   ]
  },
  {
   "cell_type": "markdown",
   "metadata": {
    "slideshow": {
     "slide_type": "subslide"
    }
   },
   "source": [
    "## SANE - choosing a better basis\n",
    "![](algo_zoom.png)"
   ]
  },
  {
   "cell_type": "markdown",
   "metadata": {
    "slideshow": {
     "slide_type": "subslide"
    }
   },
   "source": [
    "## SANE vs urQRd\n",
    "\n",
    "same test on 50 lines.\n",
    "![](rank_compare.png)"
   ]
  },
  {
   "cell_type": "code",
   "execution_count": 28,
   "metadata": {
    "ExecuteTime": {
     "end_time": "2021-09-27T16:45:12.930551Z",
     "start_time": "2021-09-27T16:45:12.342515Z"
    },
    "slideshow": {
     "slide_type": "subslide"
    }
   },
   "outputs": [
    {
     "data": {
      "text/markdown": [
       "## Synthetic dataset with 20 lines"
      ],
      "text/plain": [
       "<IPython.core.display.Markdown object>"
      ]
     },
     "metadata": {},
     "output_type": "display_data"
    },
    {
     "data": {
      "image/png": "[encoded data removed]",
      "text/plain": [
       "<Figure size 1440x432 with 1 Axes>"
      ]
     },
     "metadata": {
      "needs_background": "light"
     },
     "output_type": "display_data"
    }
   ],
   "source": [
    "import figure_sup2 as s2\n",
    "from urQRd import urQRd\n",
    "from sane import sane\n",
    "from figure_sup2 import mfft, gene, SNR\n",
    "data,data0 = gene(lendata=100000, noise=300, noisetype='additive')\n",
    "fig, ax = plt.subplots(figsize=(20,6))\n",
    "plt.plot( mfft(data0) );\n",
    "display(Markdown('## Synthetic dataset with 20 lines'))"
   ]
  },
  {
   "cell_type": "markdown",
   "metadata": {
    "slideshow": {
     "slide_type": "subslide"
    }
   },
   "source": [
    "## *SANE* vs urQRd\n",
    "\n",
    "ADDITIVE noise (typically in 1D and along F2 in 2D)"
   ]
  },
  {
   "cell_type": "code",
   "execution_count": 29,
   "metadata": {
    "ExecuteTime": {
     "end_time": "2021-09-27T16:45:15.530041Z",
     "start_time": "2021-09-27T16:45:15.523187Z"
    },
    "slideshow": {
     "slide_type": "skip"
    }
   },
   "outputs": [],
   "source": [
    "def compare(noisy, clean):\n",
    "    fig, ax = plt.subplots(nrows=2, sharex=True, figsize=(20,10))\n",
    "    fig.subplots_adjust(hspace=0)\n",
    "    ax[0].plot( mfft(noisy) )  \n",
    "    ax[1].plot( mfft(clean) )\n",
    "    ax[0].set_xbound((18000,45000))\n",
    "    for i in (0,1):\n",
    "        ax[i].set_ylim(ymax=1.6E7)"
   ]
  },
  {
   "cell_type": "code",
   "execution_count": 31,
   "metadata": {
    "ExecuteTime": {
     "end_time": "2021-09-27T16:45:40.301884Z",
     "start_time": "2021-09-27T16:45:34.777835Z"
    }
   },
   "outputs": [
    {
     "data": {
      "text/markdown": [
       "<big>**urQRd** Gain 14.0 dB</big>"
      ],
      "text/plain": [
       "<IPython.core.display.Markdown object>"
      ]
     },
     "metadata": {},
     "output_type": "display_data"
    },
    {
     "data": {
      "image/png": "[encoded data removed]",
      "text/plain": [
       "<Figure size 1440x720 with 2 Axes>"
      ]
     },
     "metadata": {
      "needs_background": "light"
     },
     "output_type": "display_data"
    }
   ],
   "source": [
    "data_urqrd = urQRd(data, k=40, orda=15000, iterations=2) # denoise signal with rQRd\n",
    "compare(data, data_urqrd) # defines in the background\n",
    "display(Markdown('<big>**urQRd** Gain %.1f dB</big>'%SNR(data_urqrd,data0)))"
   ]
  },
  {
   "cell_type": "markdown",
   "metadata": {
    "slideshow": {
     "slide_type": "subslide"
    }
   },
   "source": [
    "## SANE vs *urQRd*\n",
    "\n",
    "ADDITIVE noise (typically in 1D and along F2 in 2D)"
   ]
  },
  {
   "cell_type": "code",
   "execution_count": 32,
   "metadata": {
    "ExecuteTime": {
     "end_time": "2021-09-27T16:45:44.504575Z",
     "start_time": "2021-09-27T16:45:40.303518Z"
    },
    "slideshow": {
     "slide_type": "-"
    }
   },
   "outputs": [
    {
     "data": {
      "text/markdown": [
       "<big>**SANE** Gain 29.4 dB</big>"
      ],
      "text/plain": [
       "<IPython.core.display.Markdown object>"
      ]
     },
     "metadata": {},
     "output_type": "display_data"
    },
    {
     "data": {
      "image/png": "[encoded data removed]",
      "text/plain": [
       "<Figure size 1440x720 with 2 Axes>"
      ]
     },
     "metadata": {
      "needs_background": "light"
     },
     "output_type": "display_data"
    }
   ],
   "source": [
    "data_sane = sane(data, k=24, orda=15000, iterations=2) # denoise signal with rQRd\n",
    "compare(data, data_sane)\n",
    "display(Markdown('<big>**SANE** Gain %.1f dB</big>'%SNR(data_sane,data0)))"
   ]
  },
  {
   "cell_type": "markdown",
   "metadata": {
    "slideshow": {
     "slide_type": "subslide"
    }
   },
   "source": [
    "## *SANE* vs urQRd\n",
    "MULTIPLICATIVE noise (typically along F1 in 2D)"
   ]
  },
  {
   "cell_type": "code",
   "execution_count": 33,
   "metadata": {
    "ExecuteTime": {
     "end_time": "2021-09-27T16:45:50.864488Z",
     "start_time": "2021-09-27T16:45:44.506509Z"
    }
   },
   "outputs": [
    {
     "data": {
      "text/markdown": [
       "<big>**urQRd** Gain 12.7 dB</big>"
      ],
      "text/plain": [
       "<IPython.core.display.Markdown object>"
      ]
     },
     "metadata": {},
     "output_type": "display_data"
    },
    {
     "data": {
      "image/png": "[encoded data removed]",
      "text/plain": [
       "<Figure size 1440x720 with 2 Axes>"
      ]
     },
     "metadata": {
      "needs_background": "light"
     },
     "output_type": "display_data"
    }
   ],
   "source": [
    "data,data0 = gene(lendata=100000, noise=200, noisetype='scintillation')\n",
    "data_urqrd = urQRd(data, k=40, orda=15000, iterations=2) # denoise signal with rQRd\n",
    "compare(data, data_urqrd)\n",
    "display(Markdown('<big>**urQRd** Gain %.1f dB</big>'%SNR(data_urqrd,data0)))"
   ]
  },
  {
   "cell_type": "markdown",
   "metadata": {
    "slideshow": {
     "slide_type": "subslide"
    }
   },
   "source": [
    "## SANE vs *urQRd*\n",
    "\n",
    "MULTIPLICATIVE noise (typically along F1 in 2D)"
   ]
  },
  {
   "cell_type": "code",
   "execution_count": 34,
   "metadata": {
    "ExecuteTime": {
     "end_time": "2021-09-27T16:45:54.988190Z",
     "start_time": "2021-09-27T16:45:50.866177Z"
    }
   },
   "outputs": [
    {
     "data": {
      "text/markdown": [
       "<big>**SANE** Gain 15.1 dB</big>"
      ],
      "text/plain": [
       "<IPython.core.display.Markdown object>"
      ]
     },
     "metadata": {},
     "output_type": "display_data"
    },
    {
     "data": {
      "image/png": "[encoded data removed]",
      "text/plain": [
       "<Figure size 1440x720 with 2 Axes>"
      ]
     },
     "metadata": {
      "needs_background": "light"
     },
     "output_type": "display_data"
    }
   ],
   "source": [
    "data_sane = sane(data, k=24, orda=15000, iterations=2) # denoise signal with rQRd\n",
    "compare(data, data_sane)\n",
    "display(Markdown('<big>**SANE** Gain %.1f dB</big>'%SNR(data_sane,data0)))"
   ]
  },
  {
   "cell_type": "markdown",
   "metadata": {
    "slideshow": {
     "slide_type": "subslide"
    }
   },
   "source": [
    "## SANE vs *urQRd*\n",
    "using a larger $K$ on a proposition from Peter:"
   ]
  },
  {
   "cell_type": "code",
   "execution_count": 35,
   "metadata": {
    "ExecuteTime": {
     "end_time": "2021-09-27T16:46:11.392659Z",
     "start_time": "2021-09-27T16:45:54.989622Z"
    }
   },
   "outputs": [
    {
     "data": {
      "text/markdown": [
       "<big>**SANE** Gain 14.9 dB</big>"
      ],
      "text/plain": [
       "<IPython.core.display.Markdown object>"
      ]
     },
     "metadata": {},
     "output_type": "display_data"
    },
    {
     "data": {
      "image/png": "[encoded data removed]",
      "text/plain": [
       "<Figure size 1440x720 with 2 Axes>"
      ]
     },
     "metadata": {
      "needs_background": "light"
     },
     "output_type": "display_data"
    }
   ],
   "source": [
    "data_sane = sane(data, k=100, orda=15000, iterations=2) # denoise signal with rQRd\n",
    "compare(data, data_sane)\n",
    "display(Markdown('<big>**SANE** Gain %.1f dB</big>'%SNR(data_sane,data0)))"
   ]
  },
  {
   "cell_type": "markdown",
   "metadata": {},
   "source": [
    "notice how the noise rejection is *officially* not as good (lower gain in dB), the small peaks is beter recovered\n",
    "\n",
    "also, it is 100/24 times slower"
   ]
  },
  {
   "cell_type": "markdown",
   "metadata": {
    "slideshow": {
     "slide_type": "subslide"
    }
   },
   "source": [
    "## example in FT-ICR\n",
    "![](sp1D.png)"
   ]
  },
  {
   "cell_type": "markdown",
   "metadata": {
    "slideshow": {
     "slide_type": "subslide"
    }
   },
   "source": [
    "## example in 1D ss-NMR\n",
    "![](fig-ssnmr.png)"
   ]
  },
  {
   "cell_type": "markdown",
   "metadata": {
    "slideshow": {
     "slide_type": "subslide"
    }
   },
   "source": [
    "## in 2D ¹H NMR\n",
    "![](fig_noesy.png)"
   ]
  },
  {
   "cell_type": "markdown",
   "metadata": {},
   "source": [
    "thanks to the symmetry, the weak peaks recovered under the $t_1$-noise are validated"
   ]
  },
  {
   "cell_type": "markdown",
   "metadata": {
    "slideshow": {
     "slide_type": "subslide"
    }
   },
   "source": [
    "## in Non Uniform Sampling...\n",
    "#### *it is another story*<br>\n",
    "from C.Rolando presentation\n",
    "![](NUS-CR.png)\n",
    "<small>Nonuniform Sampling Acquisition of Two-Dimensional Fourier Transform Ion Cyclotron Resonance Mass Spectrometry for Increased Mass Resolution of Tandem Mass Spectrometry Precursor Ions.<br>\n",
    "Bray F., Bouclon J., Chiron L., Witt M., Delsuc M-A., Rolando C.\n",
    "(2017) *Anal Chem* 10.1021/acs.analchem.7b01850</small>"
   ]
  },
  {
   "cell_type": "markdown",
   "metadata": {
    "slideshow": {
     "slide_type": "skip"
    }
   },
   "source": [
    "# concepts in 2D  5 min"
   ]
  },
  {
   "cell_type": "markdown",
   "metadata": {
    "slideshow": {
     "slide_type": "slide"
    }
   },
   "source": [
    "# Narrow Band 2D\n",
    "### what drives resolution in FTICR ?\n",
    "\n",
    "$$R = \\frac{m/z}{\\Delta m/z} = \\frac{\\Delta f}{f} \\qquad m/z \\propto \\frac{B_o}{f}$$\n",
    "\n",
    "so $R \\nearrow\\:$ whenever $\\Delta f \\nearrow \\quad$ \n",
    "and $\\Delta f = \\frac 1 2 T_{max}\\:\\:$ does not depends on sampling nor on $f$.\n",
    "\n",
    "But large $T_{max}$ requires\n",
    "\n",
    "- many data-points at constant Spectral BandWidth \n",
    "\n",
    "**or**\n",
    "\n",
    "- reduced BandWidth at constant number of data-points\n",
    "\n"
   ]
  },
  {
   "cell_type": "markdown",
   "metadata": {
    "slideshow": {
     "slide_type": "fragment"
    }
   },
   "source": [
    "**or**\n",
    "\n",
    "- Non Uniform Sampling $\\rightarrow$ *another story*"
   ]
  },
  {
   "cell_type": "markdown",
   "metadata": {
    "slideshow": {
     "slide_type": "subslide"
    }
   },
   "source": [
    "## difference between F1 and F2\n",
    "#### in F2 *(classical axis)*\n",
    "reducing Bandwidth \"zooms\" into the spectrum - because of filters"
   ]
  },
  {
   "cell_type": "code",
   "execution_count": 36,
   "metadata": {
    "ExecuteTime": {
     "end_time": "2021-09-27T16:46:11.399001Z",
     "start_time": "2021-09-27T16:46:11.394105Z"
    },
    "slideshow": {
     "slide_type": "subslide"
    }
   },
   "outputs": [],
   "source": [
    "def F2_BW():\n",
    "    \"show the effect of reduced BandWidth on a classical axis\"\n",
    "    D = mfft(data0)\n",
    "    fig, ax = plt.subplots(nrows=3, sharex=True, figsize=(16,8))\n",
    "    fig.subplots_adjust(hspace=0)\n",
    "    ax[0].plot(D)\n",
    "    for i in range(1,3):\n",
    "        xm = 50000*i\n",
    "        xM = len(D)-xm\n",
    "        for j in range(i+1):\n",
    "            ax[j].plot([xm,xm],[0,2.5E7],'k:')\n",
    "            ax[j].plot([xM,xM],[0,2.5E7],'k:')\n",
    "        D[0:xm] = np.nan\n",
    "        D[xM:] = np.nan\n",
    "        ax[i].plot(D)"
   ]
  },
  {
   "cell_type": "code",
   "execution_count": 37,
   "metadata": {
    "ExecuteTime": {
     "end_time": "2021-09-27T16:46:11.991881Z",
     "start_time": "2021-09-27T16:46:11.400601Z"
    },
    "slideshow": {
     "slide_type": "subslide"
    }
   },
   "outputs": [
    {
     "data": {
      "image/png": "[encoded data removed]",
      "text/plain": [
       "<Figure size 1152x576 with 3 Axes>"
      ]
     },
     "metadata": {
      "needs_background": "light"
     },
     "output_type": "display_data"
    }
   ],
   "source": [
    "F2_BW()"
   ]
  },
  {
   "cell_type": "code",
   "execution_count": 38,
   "metadata": {
    "ExecuteTime": {
     "end_time": "2021-09-27T16:46:12.000564Z",
     "start_time": "2021-09-27T16:46:11.994062Z"
    },
    "slideshow": {
     "slide_type": "subslide"
    }
   },
   "outputs": [],
   "source": [
    "def F1_BW():\n",
    "    \"show the effect of reduced BandWidth on a non-classical axis\"\n",
    "    D = mfft(data0)\n",
    "    N = len(D)\n",
    "    fig, ax = plt.subplots(nrows=3, sharex=True, figsize=(16,8))\n",
    "    fig.subplots_adjust(hspace=0)\n",
    "    ax[0].plot(D)\n",
    "    for i in range(1,3):\n",
    "        DBW = np.zeros_like(D)\n",
    "        xm = 50000*i\n",
    "        xM = len(D)-xm\n",
    "        for j in range(i+1):\n",
    "            ax[j].plot([xm,xm],[0,2.5E7],'k:')\n",
    "            ax[j].plot([xM,xM],[0,2.5E7],'k:')\n",
    "        DBW[xm:xM] = D[xm:xM]\n",
    "        DBW[xm:2*xm] += D[xm:0:-1]\n",
    "        DBW[-2*xm:-xm] += D[-1:-xm-1:-1]\n",
    "        DBW[0:xm] = np.nan\n",
    "        DBW[xM:] = np.nan\n",
    "        ax[i].plot(DBW)"
   ]
  },
  {
   "cell_type": "code",
   "execution_count": 39,
   "metadata": {
    "ExecuteTime": {
     "end_time": "2021-09-27T16:46:12.543889Z",
     "start_time": "2021-09-27T16:46:12.002493Z"
    },
    "slideshow": {
     "slide_type": "subslide"
    }
   },
   "outputs": [
    {
     "data": {
      "image/png": "[encoded data removed]",
      "text/plain": [
       "<Figure size 1152x576 with 3 Axes>"
      ]
     },
     "metadata": {
      "needs_background": "light"
     },
     "output_type": "display_data"
    }
   ],
   "source": [
    "F1_BW()"
   ]
  },
  {
   "cell_type": "markdown",
   "metadata": {
    "slideshow": {
     "slide_type": "slide"
    }
   },
   "source": [
    "# example on histones peptides¹\n",
    "![](NB2.png)\n",
    "\n",
    "<small>1.Narrowband modulation two-dimensional mass spectrometry and label-free relative quantification of histone peptides<br>\n",
    "Halper M., Delsuc M-A., Breuker K., van Agthoven M. A.\n",
    "(2020) *Anal Chem* 10.1021/acs.analchem.0c02843</small>"
   ]
  },
  {
   "cell_type": "markdown",
   "metadata": {
    "slideshow": {
     "slide_type": "subslide"
    }
   },
   "source": [
    "## effect of folding in F1\n",
    "![](NB1.png)"
   ]
  },
  {
   "cell_type": "markdown",
   "metadata": {
    "slideshow": {
     "slide_type": "subslide"
    }
   },
   "source": [
    "## effect of folding in F1\n",
    "![](NB3.png)"
   ]
  },
  {
   "cell_type": "markdown",
   "metadata": {
    "slideshow": {
     "slide_type": "subslide"
    }
   },
   "source": [
    "## effect of folding in F1\n",
    "![](NB4.png)"
   ]
  },
  {
   "cell_type": "markdown",
   "metadata": {
    "slideshow": {
     "slide_type": "subslide"
    }
   },
   "source": [
    "## effect of folding in F1\n",
    "![](NB1D.png)"
   ]
  },
  {
   "cell_type": "markdown",
   "metadata": {
    "slideshow": {
     "slide_type": "skip"
    }
   },
   "source": [
    "# some more mathematics   10 min\n",
    "- amplitude modulation and phase modulation\n",
    "- phase in 2D\n",
    "- hypercomplex numbers"
   ]
  },
  {
   "cell_type": "markdown",
   "metadata": {
    "slideshow": {
     "slide_type": "skip"
    }
   },
   "source": [
    "# phase sensitive absorption 15 min\n",
    "( results from this preprint: https://www.preprints.org/manuscript/202104.0445/v1 )\n",
    "- phase in F2\n",
    "- phase in F1\n",
    "- results "
   ]
  },
  {
   "cell_type": "markdown",
   "metadata": {
    "slideshow": {
     "slide_type": "slide"
    }
   },
   "source": [
    "# Phase sensitive FTICR-MS\n",
    "- in all the spectra we saw so-far, spectra were in modulus.\n",
    "- however the Fourier Transform of the transien is complex *(a series of complex numbers)* \n",
    "- \"*phasing*\" a spectrum consists in rotating this numbers by a complex number of length 1.0: $e^{j \\theta}$\n",
    "    - $\\theta$ can be constant over the spectrum: $0^{th}$ order phase\n",
    "    - $\\theta$ can be linearly varying over the spectrum: $1^{st}$ order phase\n",
    "    - $\\theta$ can be quadratically varying over the spectrum: $2^{nd}$ order phase"
   ]
  },
  {
   "cell_type": "markdown",
   "metadata": {
    "slideshow": {
     "slide_type": "subslide"
    }
   },
   "source": [
    "# Phase sensitive FTICR-MS\n",
    "![](s4.png)\n",
    "- The phase mix the absorption and dispersion linesphapes\n",
    "- We see a strong linear dependence of phase (here a small spectral window)\n"
   ]
  },
  {
   "cell_type": "markdown",
   "metadata": {
    "slideshow": {
     "slide_type": "subslide"
    }
   },
   "source": [
    "## Phase sensitive FTICR-MS\n",
    "![](s3.png)\n",
    "linear phase correction in not enough\n",
    "\n",
    "$\\Rightarrow$ quadratic phase correction"
   ]
  },
  {
   "cell_type": "markdown",
   "metadata": {
    "slideshow": {
     "slide_type": "subslide"
    }
   },
   "source": [
    "## Phase sensitive FTICR-MS\n",
    "interactive/automatic module for FTICR phasing in Spike (not finished yet, but soon)\n",
    "![](s6.png)"
   ]
  },
  {
   "cell_type": "markdown",
   "metadata": {
    "slideshow": {
     "slide_type": "subslide"
    }
   },
   "source": [
    "## Phase sensitive FTICR-MS\n",
    "![](s13-2.png)"
   ]
  },
  {
   "cell_type": "markdown",
   "metadata": {
    "slideshow": {
     "slide_type": "subslide"
    }
   },
   "source": [
    "## Phase sensitive FTICR-MS\n",
    "![](PH1.png)\n",
    "notice the baseline distortion"
   ]
  },
  {
   "cell_type": "markdown",
   "metadata": {
    "slideshow": {
     "slide_type": "slide"
    }
   },
   "source": [
    "## Phase sensitive 2D FTICR-MS\n",
    "( results from this preprint: https://www.preprints.org/manuscript/202104.0445/v1 )\n",
    "![](PH2.png)\n",
    "- F2 $\\Rightarrow$ quadratic phase correction\n",
    "- F1 $\\Rightarrow$ linear phase correction\n"
   ]
  },
  {
   "cell_type": "markdown",
   "metadata": {
    "slideshow": {
     "slide_type": "subslide"
    }
   },
   "source": [
    "## Phasing rule of thumb\n",
    "- global phase ($O^{th}$ order) is due to \n",
    "    - electronic delays \n",
    "    - computation\n",
    "    - $\\Rightarrow$ easy\n",
    "- frequency linearly dependent phase ($1^{st}$ order) is due to\n",
    "    - delay between pulse and acquisition\n",
    "    - error on the position of $t=0$ origin of time \n",
    "    - $\\Rightarrow$ doable\n",
    "- frequency quadratically dependent phase ($2^{nd}$ order) is due to\n",
    "    - frequency dependent delay between pulse and acquisition\n",
    "    - frequency swept pulses\n",
    "    - $\\Rightarrow$ a pain"
   ]
  },
  {
   "cell_type": "markdown",
   "metadata": {
    "slideshow": {
     "slide_type": "subslide"
    }
   },
   "source": [
    "## *but there is more...* <small>*it took 15 years to NMR guys to realize that...*</small>\n",
    "\n",
    "phases in F1 and in F2 are independent\n",
    "\n",
    "you cannot do that in $\\mathbb{C}$, we have \"only\" one phase, one $j$\n",
    " \n",
    "$\\Rightarrow$ have to go to hypercomplex algebra $\\mathbb{H}$,\n",
    "a 4 dimensionnal, commutative, non-invertible algebra.\n",
    "\n",
    "\\begin{equation}\n",
    "z = a + ib + jc +kd \\\\\n",
    "i^2 = -1 \\quad j^2 = -1 \\quad k^2 = 1 \\\\\n",
    "ij = ji = k \\quad ik = ki = -j \\quad jk = kj = -i\n",
    "\\end{equation}\n",
    "\n",
    "in $\\mathbb{H}$ you can define independent phases: $e^{i \\theta}$ and $e^{j \\phi}$\n",
    "\n",
    "and you can write (for a sub class of the element of $\\mathbb{H}$) :\n",
    "\\begin{equation}\n",
    "z = A e^{i \\theta} e^{j \\phi}\n",
    "\\end{equation}\n"
   ]
  },
  {
   "cell_type": "markdown",
   "metadata": {
    "slideshow": {
     "slide_type": "subslide"
    }
   },
   "source": [
    "## Phase sensitive 2D FTICR-MS\n",
    "![](z00.png)"
   ]
  },
  {
   "cell_type": "markdown",
   "metadata": {
    "slideshow": {
     "slide_type": "subslide"
    }
   },
   "source": [
    "## Phase sensitive 2D FTICR-MS\n",
    "![](PH3.png)"
   ]
  },
  {
   "cell_type": "markdown",
   "metadata": {
    "slideshow": {
     "slide_type": "subslide"
    }
   },
   "source": [
    "## Phase sensitive 2D FTICR-MS\n",
    "![](PH4.png)"
   ]
  },
  {
   "cell_type": "markdown",
   "metadata": {
    "slideshow": {
     "slide_type": "subslide"
    }
   },
   "source": [
    "## Phase sensitive 2D FTICR-MS\n",
    "folding also invert the sign of the signal.\n",
    "![](PH5.png)\n",
    "here $2 \\omega$ harmonics are folded an odd number of times\n",
    "$\\Rightarrow$ separates them from the $1\\omega$ signal\n",
    "\n",
    "double the resolution"
   ]
  },
  {
   "cell_type": "markdown",
   "metadata": {
    "slideshow": {
     "slide_type": "slide"
    }
   },
   "source": [
    "# conclusion\n",
    "- resolution is paramount in MS\n",
    "    - Narrow Band is a nice and simple trick to enhance it\n",
    "    - harmonics is another (Bruker played it already)\n",
    "    - Phasing is a nicer but not so simple trick to still enhance it\n",
    "- we (you guys) still have to explore what to do with all this room !"
   ]
  },
  {
   "cell_type": "markdown",
   "metadata": {
    "slideshow": {
     "slide_type": "fragment"
    }
   },
   "source": [
    "- finally\n",
    "    - know your exponentials 😊\n",
    "    - and the rest\n",
    "    - it's always more complex that you thought"
   ]
  },
  {
   "cell_type": "markdown",
   "metadata": {
    "slideshow": {
     "slide_type": "fragment"
    }
   },
   "source": [
    "- though it's doable  !"
   ]
  },
  {
   "cell_type": "markdown",
   "metadata": {
    "slideshow": {
     "slide_type": "fragment"
    }
   },
   "source": [
    "- I love python (did you notice ?)"
   ]
  },
  {
   "cell_type": "markdown",
   "metadata": {
    "slideshow": {
     "slide_type": "slide"
    }
   },
   "source": [
    "# Thank you !"
   ]
  }
 ],
 "metadata": {
  "celltoolbar": "Slideshow",
  "hide_input": false,
  "kernelspec": {
   "display_name": "Python 3",
   "language": "python",
   "name": "python3"
  },
  "language_info": {
   "codemirror_mode": {
    "name": "ipython",
    "version": 3
   },
   "file_extension": ".py",
   "mimetype": "text/x-python",
   "name": "python",
   "nbconvert_exporter": "python",
   "pygments_lexer": "ipython3",
   "version": "3.8.5"
  }
 },
 "nbformat": 4,
 "nbformat_minor": 4
}
